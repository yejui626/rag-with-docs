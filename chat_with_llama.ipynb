{
 "cells": [
  {
   "cell_type": "code",
   "execution_count": 1,
   "metadata": {},
   "outputs": [],
   "source": [
    "import os\n",
    "os.environ['AZURE_OPENAI_API_KEY'] = \"9cb47c3891a34c2e8c1ec63d8965bf2e\"\n",
    "os.environ['AZURE_ENDPOINT'] = \"https://ptsg-5cvm-oai01.openai.azure.com/\""
   ]
  },
  {
   "cell_type": "code",
   "execution_count": 2,
   "metadata": {},
   "outputs": [
    {
     "name": "stderr",
     "output_type": "stream",
     "text": [
      "c:\\Users\\goo.yejui\\OneDrive - PETRONAS\\Desktop\\rag_with_documents\\venv\\Lib\\site-packages\\langchain_core\\_api\\deprecation.py:119: LangChainDeprecationWarning: The class `AzureOpenAIEmbeddings` was deprecated in LangChain 0.0.9 and will be removed in 0.3.0. An updated version of the class exists in the langchain-openai package and should be used instead. To use it run `pip install -U langchain-openai` and import as `from langchain_openai import AzureOpenAIEmbeddings`.\n",
      "  warn_deprecated(\n"
     ]
    }
   ],
   "source": [
    "from langchain_community.vectorstores import Chroma\n",
    "from langchain_community.document_loaders import PyPDFLoader\n",
    "from langchain_community.embeddings import AzureOpenAIEmbeddings\n",
    "from langchain_text_splitters import CharacterTextSplitter\n",
    "import streamlit as st\n",
    "\n",
    "embedding_function = AzureOpenAIEmbeddings(\n",
    "                    deployment = \"ada002\",\n",
    "                    model=\"text-embedding-ada-002\",\n",
    "                    azure_endpoint=st.secrets['OPENAI_API_ENDPOINT'],\n",
    "                    openai_api_version = \"2023-07-01-preview\"\n",
    "                    )\n",
    "\n",
    "# load the document and split it into chunks\n",
    "loader = PyPDFLoader(\"uploaded_files/default.pdf\")\n",
    "documents = loader.load()\n",
    "\n",
    "# split it into chunks\n",
    "text_splitter = CharacterTextSplitter(chunk_size=1000, chunk_overlap=0)\n",
    "docs = text_splitter.split_documents(documents)\n",
    "\n",
    "# save to disk\n",
    "db2 = Chroma.from_documents(docs, embedding_function, persist_directory=\"directories/default\",collection_name=\"default\")"
   ]
  },
  {
   "cell_type": "code",
   "execution_count": 4,
   "metadata": {},
   "outputs": [],
   "source": [
    "db = Chroma(collection_name=\"default\", embedding_function=embedding_function, persist_directory=\"directories/default\")"
   ]
  },
  {
   "cell_type": "code",
   "execution_count": 5,
   "metadata": {},
   "outputs": [
    {
     "name": "stderr",
     "output_type": "stream",
     "text": [
      "Number of requested results 4 is greater than number of elements in index 1, updating n_results = 1\n"
     ]
    },
    {
     "data": {
      "text/plain": [
       "[Document(page_content=\"Introduction of this app  \\nIntroducing our revolutionary chatbot, equipped with state -of-the-art technology and an ingenious \\ntouch of personality, we present a digital companion like no other. Our chatbot isn't just a mere program; \\nit's a responsive and engaging entity designed to i nteract with users in a human -like manner. With a dash \\nof charm and wit, our chatbot isn't merely a tool for information retrieval, but rather a delightful \\nconversational partner. Whether you're seeking assistance, guidance, or simply a friendly chat, our \\nchatbot is here to cater to your needs. With its intuitive understanding and quick wit, interacting with \\nour chatbot is more than just exchanging words – it's an experience. So, say hello to a new era of \\nconversation, where technology meets personality, an d let our chatbot redefine the way you engage \\nwith digital interfaces.\", metadata={'page': 0, 'source': 'uploaded_files/default.pdf'})]"
      ]
     },
     "execution_count": 5,
     "metadata": {},
     "output_type": "execute_result"
    }
   ],
   "source": [
    "# load from disk\n",
    "docs = db.similarity_search(\"What do you know?\")\n",
    "docs"
   ]
  }
 ],
 "metadata": {
  "kernelspec": {
   "display_name": "venv",
   "language": "python",
   "name": "python3"
  },
  "language_info": {
   "codemirror_mode": {
    "name": "ipython",
    "version": 3
   },
   "file_extension": ".py",
   "mimetype": "text/x-python",
   "name": "python",
   "nbconvert_exporter": "python",
   "pygments_lexer": "ipython3",
   "version": "3.11.6"
  }
 },
 "nbformat": 4,
 "nbformat_minor": 2
}
